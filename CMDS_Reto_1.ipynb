{
 "cells": [
  {
   "cell_type": "markdown",
   "id": "299a19ef-f266-42b1-9425-d0d1c98b85fa",
   "metadata": {
    "tags": []
   },
   "source": [
    "| Curso ID   |     ICC102      |\n",
    "|:----------|:-------------|\n",
    "| **Sesión** |  |\n",
    "| **Número de actividad** | 1 |\n",
    "| **Tipo de asignación** |  Individual |\n",
    "| **Día de asignación** |  |\n",
    "| **Fecha de entrega** |  |\n",
    "| **Modalidad** |  |\n",
    "| **Tópico** |Navegación y gestión de archivos|\n",
    "| **Matricula** |  |\n",
    "| **Autor**|<a href=\"mailto:adan.hirales@cetys.mx\">Adán Hirales Carbajal</a>|\n",
    "| **Ultima actualizacion** | 29 de enero, 2025 |"
   ]
  },
  {
   "cell_type": "markdown",
   "id": "551c0859-2dbb-47e0-8d4b-cf1c317949f1",
   "metadata": {},
   "source": [
    "## Competencia\n",
    "\n",
    "-  Navegación y gestión de archivos"
   ]
  },
  {
   "cell_type": "markdown",
   "id": "46760ee8",
   "metadata": {},
   "source": [
    "## Instrucciones\n",
    "\n",
    "1. Iniciar una sesión vía mobaXterm.\n",
    "2. Hacer la lectura del notebook y solucionar los retos.\n",
    "3. Mostrar el resultado al instructor."
   ]
  },
  {
   "cell_type": "markdown",
   "id": "52526448-cff9-4b33-a7db-56ca1414b04b",
   "metadata": {},
   "source": [
    "## Conceptos preliminares\n",
    "\n",
    "\n",
    "**¿Qué es una terminal?**\n",
    "\n",
    "Una terminal es una interfaz de usuario basada en texto que permite interactuar con un sistema operativo a través de comandos. Refiere a dispositivos físicos (teletipos y pantallas monocromáticas) conectados a una computadora central. Hoy en día refieren a emuladores de terminal, que son programas que imitan el comportamiento de las terminales antiguas dentro de un sistema moderno. Ejemplos de terminales incluyen:\n",
    "- Terminales de hardware, dispositivos de hardware que permiten la interacción directa con el hardware. \n",
    "    - **TTYs**: (teletypes o teletipos) los cuales incluyen terminales físicos y pantallas monocromaticas.\n",
    "    - **Consola del sistema**: pantalla y teclado directamente conectados al nodo de procesamiento (CPU).\n",
    "- Terminales virtuales, sesiones de terminal independientes dentro del sistema operativo.\n",
    "    - **Consola virtual**, en Linux acceden a estas utilizando las teclas ```Ctrl + Alt + F1``` a ```F6```. Esto acceder a múltiples sesiones sin entorno gráfico.\n",
    "    - **Pseudo-terminal**, emulador de terminal dentro de una sesión gráfica o remota p. ej. utilizando ```ssh```.\n",
    "- Emuladores de terminal, son programas que imitan la funcionalidad de una terminal física dentro de un entorno gráfico p. ej.\n",
    "    - En sistemas operativos basados en linux: ```xterm``` (X11), ```gnome-terminal``` (GNOME), ```konsole``` (KDE), ```alacritty``` (acelerado por GPU), entre otras.\n",
    "    - En macOS: ```Terminal.app``` y ```iTerm2```.\n",
    "    - En windows: ```windows terminal```, ```Putty```, ```XMobaTerm``` y ```Cmder```.\n",
    "- Terminales remotas, se utilizan para acceder a un sistema unix desde otro dispositivo p. ej.\n",
    "    - **SSH** Shell seguro de comunicación.\n",
    "    - **Telnel** Shell no seguro de comunicación (obsoleto).\n",
    "    - **Mosh** Shell similar a SSH con mejor tolerancia a desconexiones.\n",
    "- Terminales a través de navegadores basados en web. Ejemplos incluyen c, ttyd, guacamole, shell in a box, entre muchos otros.\n",
    "\n",
    "\n",
    "**¿Qué es un shell?**\n",
    "\n",
    "Un shell es un programa que actúa como un intérprete de comandos. Facilita la interacción entre el usuario y el núcleo (kelnel) del sistema operativo para la ejecución de comandos, administración de archivos, control de procesos y automatización de tareas mediante scripts (listas de comandos). \n",
    "\n",
    "Existen múltiples tipos de Shells operativos basados en Unix estos incluyen\n",
    "- Bourne Shell y derivados: sh (bourne shell), bash (bourne again shell), dash (debian almquist shell).\n",
    "- Shell y derivados: csh (C Shell) y tcsh (TENEX C Shell).\n",
    "- Korn Shell y derivados: ksh (Korn Shell), mksh (MirBSD Korn Shell), zsh (Z Shell).\n",
    "- Shells restringidas: rbash (Restricted Bash), lshell (Limited Shell), ash (Almquist Shell), yash (Yet Another Shell).\n",
    "\n",
    "\n",
    "**NOTA**: En jupyter es posible vincular el ambiente del notebook con la terminar de unix/linux a través del comando ```%%bash```. No debe capturar este comando mientras se encuentre trabajando en la terminal de mobaXterm."
   ]
  },
  {
   "cell_type": "markdown",
   "id": "654e1ed9-b562-4f01-8033-4d9f2a0acbe7",
   "metadata": {
    "tags": []
   },
   "source": [
    "## Comandos\n",
    "\n",
    "\n",
    "\n",
    "<center>\n",
    "    \n",
    "|Comando|Descripción|\n",
    "|:---|:---|\n",
    "|pwd|Mostrar el directorio actual|\n",
    "|ls|Listar archivos y directorios|\n",
    "|cd|Cambiar de directorio|\n",
    "|mkdir|Crear un directorio|\n",
    "|rmdir|Eliminar un directorio vacío|\n",
    "|rm -r|Eliminar directorios y archivos dentro|\n",
    "|cp|Copiar archivos o directorios|\n",
    "|mv|Mover o renombrar archivos|\n",
    "|find|Buscar archivos en el sistema|\n",
    "\n",
    "</center>\n",
    "\n"
   ]
  },
  {
   "cell_type": "code",
   "execution_count": 12,
   "id": "d6a5444a-946d-4a1a-ad7b-014d45dbfb5f",
   "metadata": {
    "tags": []
   },
   "outputs": [
    {
     "name": "stdout",
     "output_type": "stream",
     "text": [
      "/home/ahiralesc/mysrc/notebooks\n"
     ]
    }
   ],
   "source": [
    "%%bash\n",
    "\n",
    "# Muestra la trayectoria del directorio actual de trabajo\n",
    "pwd"
   ]
  },
  {
   "cell_type": "code",
   "execution_count": 13,
   "id": "1174021e-04a6-4c92-87a9-87c4871230e2",
   "metadata": {
    "tags": []
   },
   "outputs": [
    {
     "name": "stdout",
     "output_type": "stream",
     "text": [
      "NB1_Cmds.ipynb\n",
      "NB2_Scripting.ipynb\n",
      "bitacoras\n",
      "proyecto\n"
     ]
    }
   ],
   "source": [
    "%%bash\n",
    "\n",
    "#  Lista los archivos en el directorio actual\n",
    "ls"
   ]
  },
  {
   "cell_type": "code",
   "execution_count": 2,
   "id": "572d202c-811e-4a4c-92ca-2447670b73d1",
   "metadata": {
    "tags": []
   },
   "outputs": [],
   "source": [
    "%%bash\n",
    "\n",
    "# Crea un directorio con nombre proyecto\n",
    "mkdir proyecto"
   ]
  },
  {
   "cell_type": "code",
   "execution_count": 3,
   "id": "e9b450f4-0a8b-4dba-b096-15f0395db517",
   "metadata": {
    "tags": []
   },
   "outputs": [
    {
     "name": "stdout",
     "output_type": "stream",
     "text": [
      "/home/ahiralesc/mysrc/notebooks/proyecto\n"
     ]
    }
   ],
   "source": [
    "%%bash\n",
    "\n",
    "# Ingresa a la carpeta proyecto\n",
    "cd proyecto\n",
    "\n",
    "# Muestra la trayectoria del directorio actual de trabajo\n",
    "pwd\n",
    "\n",
    "# Crea la estructura básica de un proyecto en C/C++ dentro de proyecto\n",
    "mkdir mysrc; mkdir include; mkdir build\n",
    "\n",
    "# Ingresa a la carpeta mysrc y crea un archivo vacio (archivo.c)\n",
    "cd mysrc\n",
    "touch archivo.c\n",
    "\n",
    "# Regresa a la carpeta mysrc e ingresar a la carpeta include. Crea \n",
    "# el archivo vacio (archivo.h)\n",
    "cd ..\n",
    "cd include\n",
    "touch archivo.h\n",
    "\n",
    "# Regresa a la carpeta raiz del proyecto\n",
    "cd .."
   ]
  },
  {
   "cell_type": "code",
   "execution_count": 4,
   "id": "7e33b9f3-688d-4312-95bc-39d34d77ab73",
   "metadata": {
    "tags": []
   },
   "outputs": [
    {
     "name": "stdout",
     "output_type": "stream",
     "text": [
      "\u001b[01;34mproyecto\u001b[0m\n",
      "├── \u001b[01;34mbuild\u001b[0m\n",
      "├── \u001b[01;34minclude\u001b[0m\n",
      "│   └── archivo.h\n",
      "└── \u001b[01;34mmysrc\u001b[0m\n",
      "    └── archivo.c\n",
      "\n",
      "3 directories, 2 files\n"
     ]
    }
   ],
   "source": [
    "%%bash\n",
    "\n",
    "# Muestra el contenido del sistema de directorios del proyecto \n",
    "# con fomato de árbol.\n",
    "tree proyecto -L 2"
   ]
  },
  {
   "cell_type": "code",
   "execution_count": 5,
   "id": "032a20b6-fd54-4ae7-ae86-6c19006e83ae",
   "metadata": {
    "tags": []
   },
   "outputs": [
    {
     "name": "stdout",
     "output_type": "stream",
     "text": [
      "\u001b[01;34m.\u001b[0m\n",
      "├── \u001b[01;34mbasura\u001b[0m\n",
      "├── \u001b[01;34mbuild\u001b[0m\n",
      "├── \u001b[01;34minclude\u001b[0m\n",
      "│   └── archivo.h\n",
      "├── \u001b[01;34mmysrc\u001b[0m\n",
      "│   └── archivo.c\n",
      "└── salida.txt\n",
      "\n",
      "4 directories, 3 files\n",
      "\u001b[01;34m.\u001b[0m\n",
      "├── \u001b[01;34mbasura\u001b[0m\n",
      "│   └── salida.txt\n",
      "├── \u001b[01;34mbuild\u001b[0m\n",
      "├── \u001b[01;34minclude\u001b[0m\n",
      "│   └── archivo.h\n",
      "└── \u001b[01;34mmysrc\u001b[0m\n",
      "    └── archivo.c\n",
      "\n",
      "4 directories, 3 files\n"
     ]
    }
   ],
   "source": [
    "%%bash\n",
    "\n",
    "# Ingresa a la carpeta proyecto\n",
    "cd proyecto\n",
    "\n",
    "# Crea un archivo vacio con nombre salida.txt\n",
    "touch salida.txt\n",
    "\n",
    "# Crea la carpeta basura\n",
    "mkdir basura\n",
    "\n",
    "# Muestra la estructura del proyecto en forma de arbol\n",
    "tree \n",
    "\n",
    "# Mueve el archivo salida.txt a la carpeta basura\n",
    "mv salida.txt basura\n",
    "\n",
    "\n",
    "# Muestra la estructura del proyecto en forma de arbol\n",
    "tree "
   ]
  },
  {
   "cell_type": "markdown",
   "id": "204fc4ae",
   "metadata": {},
   "source": [
    "- ¿En qué carpeta se encuentra salida.txt en la primera estructura de ditectorio?\n",
    "- ¿En qué carpeta se encuentra salida.txt en la segunda estructura de ditectorio?\n",
    "- ¿Qué comando facilito mover el archivo basura entre carpetas?"
   ]
  },
  {
   "cell_type": "code",
   "execution_count": 6,
   "id": "51e68fe3-d34d-4561-bad8-d9cd27a9ff9e",
   "metadata": {
    "tags": []
   },
   "outputs": [
    {
     "name": "stdout",
     "output_type": "stream",
     "text": [
      "\u001b[01;34m.\u001b[0m\n",
      "├── \u001b[01;34mbasura\u001b[0m\n",
      "│   └── salida.txt\n",
      "├── \u001b[01;34minclude\u001b[0m\n",
      "│   └── archivo.h\n",
      "└── \u001b[01;34mmysrc\u001b[0m\n",
      "    └── archivo.c\n",
      "\n",
      "3 directories, 3 files\n"
     ]
    }
   ],
   "source": [
    "%%bash\n",
    "\n",
    "# Ingresa a la carpeta proyecto\n",
    "cd proyecto\n",
    "\n",
    "# Borra un directorio vacio (tambien funciona si utiliza el comando rm)\n",
    "rmdir build\n",
    "\n",
    "# Listar la estructura de directorios\n",
    "tree"
   ]
  },
  {
   "cell_type": "code",
   "execution_count": 6,
   "id": "607c0694-c8ff-4dbf-b037-11622bbfa4f1",
   "metadata": {},
   "outputs": [
    {
     "name": "stderr",
     "output_type": "stream",
     "text": [
      "rm: cannot remove 'basura': Is a directory\n"
     ]
    },
    {
     "ename": "CalledProcessError",
     "evalue": "Command 'b'\\n# RETO: Borrar un directorio no vac\\xc3\\xado\\n\\ncd proyecto\\n# Intentar borrar un diectorio no vac\\xc3\\xado utilizando rm\\nrm basura\\n'' returned non-zero exit status 1.",
     "output_type": "error",
     "traceback": [
      "\u001b[0;31m---------------------------------------------------------------------------\u001b[0m",
      "\u001b[0;31mCalledProcessError\u001b[0m                        Traceback (most recent call last)",
      "Cell \u001b[0;32mIn[6], line 1\u001b[0m\n\u001b[0;32m----> 1\u001b[0m get_ipython()\u001b[38;5;241m.\u001b[39mrun_cell_magic(\u001b[38;5;124m'\u001b[39m\u001b[38;5;124mbash\u001b[39m\u001b[38;5;124m'\u001b[39m, \u001b[38;5;124m'\u001b[39m\u001b[38;5;124m'\u001b[39m, \u001b[38;5;124m'\u001b[39m\u001b[38;5;130;01m\\n\u001b[39;00m\u001b[38;5;124m# RETO: Borrar un directorio no vacío\u001b[39m\u001b[38;5;130;01m\\n\u001b[39;00m\u001b[38;5;130;01m\\n\u001b[39;00m\u001b[38;5;124mcd proyecto\u001b[39m\u001b[38;5;130;01m\\n\u001b[39;00m\u001b[38;5;124m# Intentar borrar un diectorio no vacío utilizando rm\u001b[39m\u001b[38;5;130;01m\\n\u001b[39;00m\u001b[38;5;124mrm basura\u001b[39m\u001b[38;5;130;01m\\n\u001b[39;00m\u001b[38;5;124m'\u001b[39m)\n",
      "File \u001b[0;32m~/miniconda3/lib/python3.11/site-packages/IPython/core/interactiveshell.py:2478\u001b[0m, in \u001b[0;36mInteractiveShell.run_cell_magic\u001b[0;34m(self, magic_name, line, cell)\u001b[0m\n\u001b[1;32m   2476\u001b[0m \u001b[38;5;28;01mwith\u001b[39;00m \u001b[38;5;28mself\u001b[39m\u001b[38;5;241m.\u001b[39mbuiltin_trap:\n\u001b[1;32m   2477\u001b[0m     args \u001b[38;5;241m=\u001b[39m (magic_arg_s, cell)\n\u001b[0;32m-> 2478\u001b[0m     result \u001b[38;5;241m=\u001b[39m fn(\u001b[38;5;241m*\u001b[39margs, \u001b[38;5;241m*\u001b[39m\u001b[38;5;241m*\u001b[39mkwargs)\n\u001b[1;32m   2480\u001b[0m \u001b[38;5;66;03m# The code below prevents the output from being displayed\u001b[39;00m\n\u001b[1;32m   2481\u001b[0m \u001b[38;5;66;03m# when using magics with decodator @output_can_be_silenced\u001b[39;00m\n\u001b[1;32m   2482\u001b[0m \u001b[38;5;66;03m# when the last Python token in the expression is a ';'.\u001b[39;00m\n\u001b[1;32m   2483\u001b[0m \u001b[38;5;28;01mif\u001b[39;00m \u001b[38;5;28mgetattr\u001b[39m(fn, magic\u001b[38;5;241m.\u001b[39mMAGIC_OUTPUT_CAN_BE_SILENCED, \u001b[38;5;28;01mFalse\u001b[39;00m):\n",
      "File \u001b[0;32m~/miniconda3/lib/python3.11/site-packages/IPython/core/magics/script.py:153\u001b[0m, in \u001b[0;36mScriptMagics._make_script_magic.<locals>.named_script_magic\u001b[0;34m(line, cell)\u001b[0m\n\u001b[1;32m    151\u001b[0m \u001b[38;5;28;01melse\u001b[39;00m:\n\u001b[1;32m    152\u001b[0m     line \u001b[38;5;241m=\u001b[39m script\n\u001b[0;32m--> 153\u001b[0m \u001b[38;5;28;01mreturn\u001b[39;00m \u001b[38;5;28mself\u001b[39m\u001b[38;5;241m.\u001b[39mshebang(line, cell)\n",
      "File \u001b[0;32m~/miniconda3/lib/python3.11/site-packages/IPython/core/magics/script.py:305\u001b[0m, in \u001b[0;36mScriptMagics.shebang\u001b[0;34m(self, line, cell)\u001b[0m\n\u001b[1;32m    300\u001b[0m \u001b[38;5;28;01mif\u001b[39;00m args\u001b[38;5;241m.\u001b[39mraise_error \u001b[38;5;129;01mand\u001b[39;00m p\u001b[38;5;241m.\u001b[39mreturncode \u001b[38;5;241m!=\u001b[39m \u001b[38;5;241m0\u001b[39m:\n\u001b[1;32m    301\u001b[0m     \u001b[38;5;66;03m# If we get here and p.returncode is still None, we must have\u001b[39;00m\n\u001b[1;32m    302\u001b[0m     \u001b[38;5;66;03m# killed it but not yet seen its return code. We don't wait for it,\u001b[39;00m\n\u001b[1;32m    303\u001b[0m     \u001b[38;5;66;03m# in case it's stuck in uninterruptible sleep. -9 = SIGKILL\u001b[39;00m\n\u001b[1;32m    304\u001b[0m     rc \u001b[38;5;241m=\u001b[39m p\u001b[38;5;241m.\u001b[39mreturncode \u001b[38;5;129;01mor\u001b[39;00m \u001b[38;5;241m-\u001b[39m\u001b[38;5;241m9\u001b[39m\n\u001b[0;32m--> 305\u001b[0m     \u001b[38;5;28;01mraise\u001b[39;00m CalledProcessError(rc, cell)\n",
      "\u001b[0;31mCalledProcessError\u001b[0m: Command 'b'\\n# RETO: Borrar un directorio no vac\\xc3\\xado\\n\\ncd proyecto\\n# Intentar borrar un diectorio no vac\\xc3\\xado utilizando rm\\nrm basura\\n'' returned non-zero exit status 1."
     ]
    }
   ],
   "source": [
    "%%bash\n",
    "\n",
    "# Ingresa a la carpeta proyecto\n",
    "cd proyecto\n",
    "\n",
    "# Intentar borrar un diectorio no vacío utilizando rm\n",
    "rm basura"
   ]
  },
  {
   "cell_type": "markdown",
   "id": "daffc21d",
   "metadata": {},
   "source": [
    "**Hmmmm!** No fue posible borrarlo porque el directorio contiene un archivo. Es posible forzar borrar el directorio utilizando el comando ```rm -rf```. Intentemos de nuevo. "
   ]
  },
  {
   "cell_type": "code",
   "execution_count": 7,
   "id": "d0d4019d",
   "metadata": {},
   "outputs": [
    {
     "name": "stdout",
     "output_type": "stream",
     "text": [
      "\u001b[01;34m.\u001b[0m\n",
      "├── \u001b[01;34minclude\u001b[0m\n",
      "│   └── archivo.h\n",
      "└── \u001b[01;34mmysrc\u001b[0m\n",
      "    └── archivo.c\n",
      "\n",
      "2 directories, 2 files\n"
     ]
    }
   ],
   "source": [
    "%%bash\n",
    "\n",
    "cd proyecto\n",
    "\n",
    "# Intentar borrar un diectorio no vacío utilizando rm\n",
    "rm -rf basura\n",
    "\n",
    "# Mostrar los archivos y directorios remanentes\n",
    "tree"
   ]
  },
  {
   "cell_type": "markdown",
   "id": "0f79848a",
   "metadata": {},
   "source": [
    "##  **RETO 1**.  El explorador de archivos en la terminal.\n",
    "\n",
    "**Objetivo**: Demuestra tu habilidad para navegar y gestionar archivos en Linux utilizando únicamente la terminal.\n",
    "\n",
    "**Tareas**:\n",
    "\n",
    "&#x0031;&#xFE0F;&#x20E3;. Crea la siguiente estructura de ditectorios y archivos.\n",
    "\n",
    "```Bash\n",
    "/home/usuario/proyecto\n",
    "├── documentos\n",
    "│   ├── reporte.txt\n",
    "│   ├── notas.md\n",
    "│   └── tareas\n",
    "│       ├── tarea1.docx\n",
    "│       ├── tarea2.docx\n",
    "│       └── tarea3.docx\n",
    "├── scripts\n",
    "│   ├── backup.sh\n",
    "│   ├── limpiar.sh\n",
    "│   └── renombrar.sh\n",
    "└── imagenes\n",
    "    ├── foto1.png\n",
    "    ├── foto2.png\n",
    "    ├── icono.jpg\n",
    "    └── fondos\n",
    "        ├── fondo1.jpg\n",
    "        └── fondo2.jpg\n",
    "```\n",
    "\n",
    "&#x0032;&#xFE0F;&#x20E3; Navega hasta la carpeta proyecto y lista su contenido.<br>\n",
    "&#x0033;&#xFE0F;&#x20E3; Copia el archivo reporte.txt en la carpeta scripts sin cambiar su nombre.<br>\n",
    "&#x0034;&#xFE0F;&#x20E3; Mueve todos los archivos .docx a la carpeta documentos, sin cambiar sus nombres.<br>\n",
    "&#x0035;&#xFE0F;&#x20E3; Cambia el nombre de foto1.png a foto_perfil.png en la carpeta imagenes.<br>\n",
    "&#x0036;&#xFE0F;&#x20E3; Elimina el archivo icono.jpg de la carpeta imagenes.<br>\n",
    "&#x0037;&#xFE0F;&#x20E3; Muestra la cantidad total de archivos dentro de proyecto (incluyendo subdirectorios).<br>\n",
    "&#x0038;&#xFE0F;&#x20E3; Crea un nuevo archivo vacío llamado resumen.txt en documentos sin usar un editor de texto.<br>\n",
    "&#x0039;&#xFE0F;&#x20E3; Lista la estructura de arbol resultante a partir de la raiz de la carpeta proyecto.\n",
    "\n"
   ]
  },
  {
   "cell_type": "markdown",
   "id": "980b0aa0",
   "metadata": {},
   "source": [
    "## Solución\n",
    "\n",
    "La structura de directorios que debe generar es:\n"
   ]
  },
  {
   "cell_type": "code",
   "execution_count": 8,
   "id": "451b1a6f",
   "metadata": {},
   "outputs": [
    {
     "name": "stdout",
     "output_type": "stream",
     "text": [
      "\u001b[01;34mproyecto\u001b[0m\n",
      "├── \u001b[01;34mdocumentos\u001b[0m\n",
      "│   ├── notas.md\n",
      "│   ├── reporte.txt\n",
      "│   ├── resumen.txt\n",
      "│   ├── tarea1.docx\n",
      "│   ├── tarea2.docx\n",
      "│   ├── tarea3.docx\n",
      "│   └── \u001b[01;34mtareas\u001b[0m\n",
      "├── \u001b[01;34mimagenes\u001b[0m\n",
      "│   ├── \u001b[01;34mfondos\u001b[0m\n",
      "│   │   ├── \u001b[01;35mfondo1.jpg\u001b[0m\n",
      "│   │   └── \u001b[01;35mfondo2.jpg\u001b[0m\n",
      "│   ├── \u001b[01;35mfoto2.png\u001b[0m\n",
      "│   └── \u001b[01;35mfoto_perfil.png\u001b[0m\n",
      "└── \u001b[01;34mscripts\u001b[0m\n",
      "    ├── backup.sh\n",
      "    ├── limpiar.sh\n",
      "    ├── renombrar.sh\n",
      "    └── reporte.txt\n",
      "\n",
      "5 directories, 14 files\n"
     ]
    }
   ],
   "source": [
    "%%bash\n",
    "\n",
    "tree proyecto"
   ]
  }
 ],
 "metadata": {
  "kernelspec": {
   "display_name": "Python 3 (ipykernel)",
   "language": "python",
   "name": "python3"
  },
  "language_info": {
   "codemirror_mode": {
    "name": "ipython",
    "version": 3
   },
   "file_extension": ".py",
   "mimetype": "text/x-python",
   "name": "python",
   "nbconvert_exporter": "python",
   "pygments_lexer": "ipython3",
   "version": "3.11.4"
  }
 },
 "nbformat": 4,
 "nbformat_minor": 5
}
