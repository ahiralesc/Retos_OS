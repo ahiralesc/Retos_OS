{
 "cells": [
  {
   "cell_type": "markdown",
   "id": "299a19ef-f266-42b1-9425-d0d1c98b85fa",
   "metadata": {
    "tags": []
   },
   "source": [
    "| Curso ID   |     ICC102      |\n",
    "|:----------|:-------------|\n",
    "| **Sesión** |  |\n",
    "| **Número de actividad** | 2 |\n",
    "| **Tipo de asignación** |  Individual |\n",
    "| **Día de asignación** |  |\n",
    "| **Fecha de entrega** |  |\n",
    "| **Modalidad** |  |\n",
    "| **Tópico** |Manipulación de archivos |\n",
    "| **Matricula** |  |\n",
    "| **Autor**|<a href=\"mailto:adan.hirales@cetys.mx\">Adán Hirales Carbajal</a>|\n",
    "| **Ultima actualizacion** | 10 de febrero, 2025 |"
   ]
  },
  {
   "cell_type": "markdown",
   "id": "551c0859-2dbb-47e0-8d4b-cf1c317949f1",
   "metadata": {},
   "source": [
    "## Competencia\n",
    "\n",
    "-  Navegación y gestión de archivos"
   ]
  },
  {
   "cell_type": "markdown",
   "id": "5e98373b",
   "metadata": {},
   "source": [
    "## Instrucciones\n",
    "\n",
    "1. Iniciar una sesión vía mobaXterm.\n",
    "2. Hacer la lectura del notebook y solucionar los retos.\n",
    "3. Mostrar el resultado al instructor."
   ]
  },
  {
   "cell_type": "markdown",
   "id": "d12e68bb",
   "metadata": {},
   "source": [
    "## Comandos\n",
    "\n",
    "\n",
    "<center>\n",
    "    \n",
    "|Comando|Descripción|\n",
    "|:---|:---|\n",
    "|touch|creación de un archivo vacío|\n",
    "|cat|muestra el contenido de un archivo|\n",
    "|less y more|facilita ver el contenido de un archivo paginando|\n",
    "|head|ve las primeras líneas de un archivo|\n",
    "|tail|ve las últimas líneas de un archivo|\n",
    "|nano, vim y gedit|editores de texto en consola|\n",
    "\n",
    "</center>\n"
   ]
  },
  {
   "cell_type": "code",
   "execution_count": 1,
   "id": "75e59120",
   "metadata": {},
   "outputs": [],
   "source": [
    "%%bash\n",
    "\n",
    "# Creación de la carpeta de trabajo\n",
    "mkdir proyecto\n",
    "\n",
    "# Cambia al directorio de trabajo proyecto\n",
    "cd proyecto\n",
    "\n",
    "# Crea un archivo vacio \n",
    "touch comandos.txt\n",
    "\n",
    "# concatena la salida del manual, para la función printf, \n",
    "# en el archivo salida.txt\n",
    "man -k printf >> comandos.txt"
   ]
  },
  {
   "cell_type": "code",
   "execution_count": 2,
   "id": "fe73b22e",
   "metadata": {},
   "outputs": [
    {
     "name": "stdout",
     "output_type": "stream",
     "text": [
      "asprintf (3)         - print to allocated string\n",
      "dprintf (3)          - formatted output conversion\n",
      "fprintf (3)          - formatted output conversion\n",
      "fwprintf (3)         - formatted wide-character output conversion\n",
      "printf (1)           - format and print data\n",
      "printf (3)           - formatted output conversion\n",
      "snprintf (3)         - formatted output conversion\n",
      "sprintf (3)          - formatted output conversion\n",
      "swprintf (3)         - formatted wide-character output conversion\n",
      "vasprintf (3)        - print to allocated string\n",
      "vdprintf (3)         - formatted output conversion\n",
      "vfprintf (3)         - formatted output conversion\n",
      "vfwprintf (3)        - formatted wide-character output conversion\n",
      "vprintf (3)          - formatted output conversion\n",
      "vsnprintf (3)        - formatted output conversion\n",
      "vsprintf (3)         - formatted output conversion\n",
      "vswprintf (3)        - formatted wide-character output conversion\n",
      "vwprintf (3)         - formatted wide-character output conversion\n",
      "wprintf (3)          - formatted wide-character output conversion\n"
     ]
    }
   ],
   "source": [
    "%%bash\n",
    "\n",
    "# Cambia al directorio de trabajo proyecto\n",
    "cd proyecto\n",
    "\n",
    "# Muestra todo el contenido del archivo\n",
    "cat comandos.txt "
   ]
  },
  {
   "cell_type": "code",
   "execution_count": 3,
   "id": "71b57eb5",
   "metadata": {
    "scrolled": false
   },
   "outputs": [
    {
     "name": "stdout",
     "output_type": "stream",
     "text": [
      "vasprintf (3)        - print to allocated string\n",
      "vdprintf (3)         - formatted output conversion\n",
      "vfprintf (3)         - formatted output conversion\n",
      "vfwprintf (3)        - formatted wide-character output conversion\n",
      "vprintf (3)          - formatted output conversion\n",
      "vsnprintf (3)        - formatted output conversion\n",
      "vsprintf (3)         - formatted output conversion\n",
      "vswprintf (3)        - formatted wide-character output conversion\n",
      "vwprintf (3)         - formatted wide-character output conversion\n",
      "wprintf (3)          - formatted wide-character output conversion\n"
     ]
    }
   ],
   "source": [
    "%%bash\n",
    "\n",
    "# Cambia al directorio de trabajo proyecto\n",
    "cd proyecto\n",
    "\n",
    "# Muestra las últimas 10 líneas del archivo aplicando tail\n",
    "tail comandos.txt "
   ]
  },
  {
   "cell_type": "code",
   "execution_count": 4,
   "id": "0783374c",
   "metadata": {},
   "outputs": [
    {
     "name": "stdout",
     "output_type": "stream",
     "text": [
      "vsnprintf (3)        - formatted output conversion\n",
      "vsprintf (3)         - formatted output conversion\n",
      "vswprintf (3)        - formatted wide-character output conversion\n",
      "vwprintf (3)         - formatted wide-character output conversion\n",
      "wprintf (3)          - formatted wide-character output conversion\n"
     ]
    }
   ],
   "source": [
    "%%bash\n",
    "\n",
    "# Cambia al directorio de trabajo proyecto\n",
    "cd proyecto\n",
    "\n",
    "# Muestra las últimas 5 lineas del archivo aplicando tail\n",
    "tail -n 5 comandos.txt"
   ]
  },
  {
   "cell_type": "code",
   "execution_count": 5,
   "id": "36f0c642",
   "metadata": {},
   "outputs": [
    {
     "name": "stdout",
     "output_type": "stream",
     "text": [
      "asprintf (3)         - print to allocated string\n",
      "dprintf (3)          - formatted output conversion\n",
      "fprintf (3)          - formatted output conversion\n",
      "fwprintf (3)         - formatted wide-character output conversion\n",
      "printf (1)           - format and print data\n"
     ]
    }
   ],
   "source": [
    "%%bash\n",
    "\n",
    "# Cambia al directorio de trabajo proyecto\n",
    "cd proyecto\n",
    "\n",
    "# Muestra las últimas 5 lineas del archivo aplicando tail\n",
    "head -n 5 comandos.txt"
   ]
  },
  {
   "cell_type": "markdown",
   "id": "2304969a",
   "metadata": {},
   "source": [
    "Este comando lo correremos en terminal dado que la salida es interactiva. Facilita observar el contenido por páginas\n",
    "\n",
    "```cat comandos.txt | more```\n",
    "\n",
    "Para avanzar de página debe presionar la barra espaciadora. \n",
    "\n",
    "El comando ```less``` es similar a more. Sin embargo, no requiere leer toda la entrada para iniciar ejecución. Por lo que es ideal para procesar archivos grandes.\n",
    "\n",
    "```cat comandos.txt | less```\n",
    "\n",
    "Un excelete tutorial para vim es [vimtutor](https://remarkablemark.org/vimtutor/)\n"
   ]
  },
  {
   "cell_type": "markdown",
   "id": "d30b381f",
   "metadata": {},
   "source": [
    "## **RETO 2**.  El Archivero Galáctico 🚀\n",
    "\n",
    "**Objetivo**:\n",
    "Demuestra tu habilidad para crear, visualizar y examinar archivos de texto en la terminal usando herramientas esenciales.\n",
    "\n",
    "**Escenario**:\n",
    "Eres un archivero galáctico a bordo de la nave USS Linuxprise 🛸 y tu misión es organizar y revisar los registros estelares. La Federación ha encontrado varios documentos desordenados y necesita tu ayuda para analizarlos rápidamente sin alterar su contenido. Tu carpeta inicial contiene:\n",
    "\n",
    "```Basch\n",
    "archivos_mision/\n",
    "├── bitacora_viaje.log\n",
    "├── datos_cuadrante.txt\n",
    "└── mensajes_secretos.txt\n",
    "```\n",
    "\n",
    "**Desafío**:\n",
    "\n",
    "&#x0031;&#xFE0F;&#x20E3; Crea un nuevo archivo llamado ```reporte_mision.log``` dentro de archivos_mision.<br>\n",
    "&#x0032;&#xFE0F;&#x20E3; Verifica el contenido de ```bitacora_viaje.log``` sin abrirlo completamente en un editor (utiliza less).<br>\n",
    "&#x0033;&#xFE0F;&#x20E3; Muestra las primeras 5 líneas de ```datos_cuadrante.txt```.<br>\n",
    "&#x0034;&#xFE0F;&#x20E3; Muestra las últimas 10 líneas de ```bitacora_viaje.log```.<br>\n",
    "&#x0035;&#xFE0F;&#x20E3;  Usa more para visualizar ```mensajes_secreto.txt``` y desplazarte por el contenido.<br>\n",
    "&#x0036;&#xFE0F;&#x20E3; Captura dos entradas nuevas en la bitacora ```reporte_mision.log``` aplicando el formarto de las entradas de bitacora_viaje.log.<br>\n",
    "&#x0037;&#xFE0F;&#x20E3; Muestra el contenido de ```reporte_mision.log``` en la terminal.<br>\n",
    "&#x0038;&#xFE0F;&#x20E3; Muestra de la carpeta ```archivos_mision```.<br>\n"
   ]
  }
 ],
 "metadata": {
  "kernelspec": {
   "display_name": "Python 3 (ipykernel)",
   "language": "python",
   "name": "python3"
  },
  "language_info": {
   "codemirror_mode": {
    "name": "ipython",
    "version": 3
   },
   "file_extension": ".py",
   "mimetype": "text/x-python",
   "name": "python",
   "nbconvert_exporter": "python",
   "pygments_lexer": "ipython3",
   "version": "3.11.4"
  }
 },
 "nbformat": 4,
 "nbformat_minor": 5
}
