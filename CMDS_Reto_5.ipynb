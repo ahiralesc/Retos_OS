{
 "cells": [
  {
   "cell_type": "markdown",
   "metadata": {
    "tags": []
   },
   "source": [
    "| Curso ID   |     ICC102      |\n",
    "|:----------|:-------------|\n",
    "| **Sesión** |  |\n",
    "| **Número de actividad** | 5 |\n",
    "| **Tipo de asignación** |  Individual |\n",
    "| **Día de asignación** |  |\n",
    "| **Fecha de entrega** |  |\n",
    "| **Modalidad** |  |\n",
    "| **Tópico** |  Redirección y manipulación de flujo de datos |\n",
    "| **Matricula** |  |\n",
    "| **Autor**|<a href=\"mailto:adan.hirales@cetys.mx\">Adán Hirales Carbajal</a>|\n",
    "| **Ultima actualizacion** | 31 de marzo, 2025 |"
   ]
  },
  {
   "cell_type": "markdown",
   "metadata": {},
   "source": [
    "## Competencia\n",
    "\n",
    "-  Redirección y manipulación de flujo de datos."
   ]
  },
  {
   "cell_type": "markdown",
   "metadata": {},
   "source": [
    "## Instrucciones\n",
    "\n",
    "1. Iniciar una sesión vía mobaXterm.\n",
    "2. Hacer la lectura del notebook y solucionar los retos.\n",
    "3. Mostrar el resultado al instructor."
   ]
  },
  {
   "cell_type": "markdown",
   "metadata": {},
   "source": [
    "## Comandos y operadores\n",
    "\n",
    "\n",
    "### Redirección de entrada y salida.\n",
    "\n",
    "<center>\n",
    "\n",
    "|Operador|Descripción|Ejemplo|\n",
    "|:-------|:----------|:------|\n",
    "| ```>``` |Redirige la salida estándar (stdout) a un archivo (sobrescribe).| ```ls > archivos.txt``` |\n",
    "|```>>```|Redirige la salida estándar a un archivo (añade sin sobrescribir).|```echo \"Nueva línea\" >> archivos.txt```|\n",
    "|```<```|Redirige la entrada estándar (stdin) desde un archivo.|```sort < lista.txt```|\n",
    "|```2>```|Redirige la salida de errores (stderr) a un archivo.|```ls /noexiste 2> error.log```|\n",
    "|```2>>```|Redirige stderr a un archivo (añadiendo sin sobrescribir).|```ls /noexiste 2>> error.log```|\n",
    "|```&>```|Redirige tanto stdout como stderr a un archivo.|```comando &> salida.log```|\n",
    "|```/dev/null```|Descarta la salida para evitar que se guarde.|```comando > /dev/null 2>&1```|\n",
    "\n",
    "</center>\n",
    "\n",
    "<br><br>\n",
    "\n",
    "**Ejemplo 1**: Analizando los usuarios que se han conectado.\n",
    "\n",
    "Considere desea:\n",
    "- Guardar la lista de usuarios en un archivo (>)\n",
    "- Añadir nuevos registros sin sobrescribir (>>)\n",
    "- Leer el archivo como entrada para otro comando (<)\n",
    "- Capturar errores en un archivo separado "
   ]
  },
  {
   "cell_type": "code",
   "execution_count": null,
   "metadata": {},
   "outputs": [],
   "source": [
    "%%bash\n",
    "\n",
    "who # Primero, con who listamos los usuarios en el sistema."
   ]
  },
  {
   "cell_type": "code",
   "execution_count": null,
   "metadata": {},
   "outputs": [],
   "source": [
    "%%bash\n",
    "\n",
    "# Guarda la lista de usuarios en un archivo usuarios.log\n",
    "# Si el archivo ya existe, se sobrescribirá\n",
    "who > usuarios.log"
   ]
  },
  {
   "cell_type": "code",
   "execution_count": null,
   "metadata": {},
   "outputs": [],
   "source": [
    "%%bash\n",
    "\n",
    "# Supongan que desea conocer si después de unos minutos se conectaron \n",
    "# más usuarios, entonces lo más conveniente es añadir tal información \n",
    "# sin sobrescribir (>>) a la botacora usuarios.lo\n",
    "\n",
    "who >> usuarios.log\n"
   ]
  },
  {
   "cell_type": "code",
   "execution_count": null,
   "metadata": {},
   "outputs": [],
   "source": [
    "%%bash\n",
    "\n",
    "# Vamos a ver quienes estaban conectados aplicando cat\n",
    "cat usuarios.log\n"
   ]
  },
  {
   "cell_type": "code",
   "execution_count": null,
   "metadata": {},
   "outputs": [],
   "source": [
    "%%bash\n",
    "\n",
    "# Ahora queremos contar cuantos usuarios se conectaron\n",
    "wc -l < usuarios.log"
   ]
  },
  {
   "cell_type": "markdown",
   "metadata": {},
   "source": [
    "**Ejemplo 2**: Redirigiendo los errores.\n",
    "\n",
    "Suponga elabora un programa el cual produce salidas válidas y salidas que se derivan de un error de lógica. En el siguiente ejemplo, emulamos la ejecución de un programa a través de comandos que intentan realizar una operación erronea. Los errores serán re-dirigidos a una bitacora con nombre ```errores.log```.\n"
   ]
  },
  {
   "cell_type": "code",
   "execution_count": null,
   "metadata": {},
   "outputs": [],
   "source": [
    "%%bash\n",
    "\n",
    "# Ahora queremos contar cuantos usuarios se conectaron\n",
    "wc -l < usuarios.log"
   ]
  },
  {
   "cell_type": "markdown",
   "metadata": {},
   "source": [
    "### Redirección con pipas\n",
    "\n",
    "\n",
    "|Operador|Descripción|Ejemplo|\n",
    "|:-------|:----------|:------|\n",
    "|``` \\| ```|Conecta la salida de un comando con otro. | ``` ls -l \\| grep \".txt\" \\| wc -l```|\n",
    "|```tee```|El comando tee se usa para dividir la salida de un comando y enviarla tanto a un archivo como a la salida estándar (pantalla). Es útil para guardar registros sin perder visibilidad del proceso.| ```ls -l \\| tee lista.txt```<br> ```echo \"Nuevo registro\" \\| tee -a log.txt```|\n"
   ]
  },
  {
   "cell_type": "code",
   "execution_count": null,
   "metadata": {},
   "outputs": [],
   "source": [
    "%%bash\n",
    "\n",
    "# Intentar acceder un archivo que no existe\n",
    "# 2> redirige la salida que se envia a \n",
    "# stderr al archivo errores.log\n",
    "cat archivo_inexistente.txt 2> errores.log"
   ]
  },
  {
   "cell_type": "code",
   "execution_count": null,
   "metadata": {},
   "outputs": [],
   "source": [
    "%%bash\n",
    "\n",
    "# Ahora suponga que quiere redirigir tanto la salida estándar como los\n",
    "# errores al mismo archivo. No es algo que harían en la realidad, pero\n",
    "# ejemplifica como se redirige stdout y stderr.\n",
    "\n",
    "ls /etc /noexiste > salida.log 2>&1\n"
   ]
  },
  {
   "cell_type": "markdown",
   "metadata": {},
   "source": [
    "### Manipulación de flujo de datos\n",
    "\n",
    "|Operador|Descripción|Ejemplo|\n",
    "|:-------|:----------|:------|\n",
    "|```cat```|Muestra el contenido de un archivo.|```cat archivo.txt```|\n",
    "|```tac```|Muestra el contenido en orden inverso.|```tac archivo.txt```|\n",
    "|```grep```|Filtra líneas según un patrón.|```grep \"error\" log.txt```|\n",
    "|```awk```|Procesa texto por columnas.|```awk '{print $1}' datos.txt```|\n",
    "|```sed```|Edita texto en flujos de datos.|```sed 's/antiguo/nuevo/g' texto.txt```|\n",
    "|```cut```|Extrae partes de cada línea.|```cut -d':' -f1 /etc/passwd```|\n",
    "|```sort```|Ordena líneas de texto.|```sort nombres.txt```|\n",
    "|```uniq```|Elimina líneas duplicadas.|```uniq lista.txt```|\n",
    "|```tr```|Reemplaza caracteres.|```echo \"hola mundo\" \\| tr 'a-z' 'A-Z'``` |\n",
    "|```wc```|Cuenta palabras, líneas o caracteres.|```wc -l archivo.txt```|"
   ]
  },
  {
   "cell_type": "code",
   "execution_count": null,
   "metadata": {},
   "outputs": [],
   "source": []
  },
  {
   "cell_type": "markdown",
   "metadata": {},
   "source": [
    "### Control de procesos y flujo\n",
    "\n",
    "\n",
    "|Operador|Descripción|Ejemplo|\n",
    "|:-------|:----------|:------|\n",
    "|```xargs```|Convierte entrada estándar en argumentos de comando.| ```ls *.txt \\| xargs wc -l```|\n",
    "|```nohup```|Ejecuta un proceso sin interrupción al cerrar sesión.| ```nohup script.sh &```|\n",
    "|```bg```|Envía un proceso suspendido al segundo plano.|```bg %1```|\n",
    "|```fg```|Trae un proceso en segundo plano al primer plano.|```fg %1```|\n",
    "|```jobs```|Lista procesos en segundo plano.|```jobs```|"
   ]
  },
  {
   "cell_type": "code",
   "execution_count": null,
   "metadata": {},
   "outputs": [],
   "source": []
  },
  {
   "attachments": {},
   "cell_type": "markdown",
   "metadata": {},
   "source": [
    "## Asignación: \n",
    "\n",
    "DENUE significa \"Directorio Estadístico Nacional de Unidades Económicas\" y es una herramienta del Instituto Nacional de Estadística y Geografía (INEGI) que proporciona datos de identificación, ubicación, actividad económica y tamaño de los negocios activos en México. \n",
    "\n",
    "El DENUE es un directorio que contiene información sobre los establecimientos económicos del país, con excepción del sector agropecuario. En este caso, solo consideramos el caso de Baja California. Contiene información referente a:\n",
    "- Identificación de los negocios. \n",
    "- Ubicación geográfica. \n",
    "- Actividad económica a la que se dedica. \n",
    "- Tamaño del negocio (según el número de empleados). \n",
    "- Entre otros elementos\n",
    "\n",
    "¿Para qué sirve?\n",
    "- Facilita la consulta de datos sobre las empresas mexicanas. \n",
    "- Sirve como base para la elaboración de estadísticas económicas. \n",
    "- Es una herramienta útil para la toma de decisiones en el ámbito empresarial y gubernamental.\n",
    "\n",
    "El archivo 2024 contiene los siguientes indicadores\n",
    "\n",
    "|Atributo|Descripción|\n",
    "|:-------|:----------|\n",
    "|id|Número  de identificación del DENUE, es una clave numérica única para cada registro de la base de datos del Directorio Estadístico Nacional de Unidades Económicas (DENUE).|\n",
    "|nom_estab|Es el nombre comercial o nombre exterior con el que se identifica o anuncia la unidad económica.Generalmente es fácil reconocerlo porque está visible y escrito en rótulos, fachadas o anuncios luminosos. Ejemplo: ABARROTES LUPITA.Cuando la unidad económica no tiene ningún apelativo comercial, entonces se registra con el nombre genérico de la actividad o la descripción de la actividad económica, ejemplo: ABARROTES o Comercio al por menor en tiendas de abarrotes, ultramarinos y misceláneas.|\n",
    "|raz_social|Es la forma con que está legalmente constituida y registrada la persona moral, o la denominación de una sociedad legalmente constituida.Es importante considerar que en algunas sociedades mercantiles, la razón social y el nombre comercial pueden ser los mismos, ejemplo: GILSA, S.A. de C.V.Cuando la unidad económica pertenece a una persona física, el dato no se incluye para proteger la confidencialidad de la información.|\n",
    "|codigo_act|La clasificación de las actividades desarrolladas por las unidades económicas debe hacerse utilizando el SCIAN y sus actualizaciones, con base en lo dispuesto en el acuerdo para el uso del SCIAN y en la recopilación, análisis y presentación de estadísticas económicas, publicado en el Diario Oficial de la Federación del 10 de julio de 2009.<br><br>El código está asignado con base en la actividad principal que desarrolla la unidad económica y de acuerdo con el Sistema de Clasificación Industrial para América del Norte, versión 2018.<br><br>Para la asignación del código de actividad correspondiente, según el SCIAN 2018, se consideraron tanto los productos (bienes y servicios) desarrollados por el establecimiento como sus procesos de producción.|\n",
    "|nombre_act|Nombre del código de actividad conforme al SCIAN 2018.|\n",
    "|per_ocu|Comprende al personal contratado directamente por la razón social y al personal ajeno suministrado por otra razón social, que trabajó para la unidad económica, sujeto a su dirección y control y que cubrió, como mínimo, una tercera parte de la jornada laboral. Puede ser personal de planta, eventual remunerado o no remunerado.<br><br>Las unidades económicas se clasifican por rangos de personal ocupado, que permiten identificar el tamaño de Unidades Económicas por el número de personal que emplean; es decir, según su personal ocupado total. Para el Directorio las Unidades Económicas están agrupadas en rangos o estratos de personal ocupado, con base en el personal ocupado total reportado por éstas, como se indica en la siguiente tabla.<br><br>Personal Ocupado<br>1 = 0 a 5<br>2 = 6 a 10<br>3 = 11 a 30<br>4 = 31 a 50<br>5 = 51 a 100<br>6 = 101 a 250<br>7 = 251 y más\"|\n",
    "|tipo_vial|Es la superficie del terreno destinada para el tránsito vehicular y/o peatonal, en la cual se encuentra ubicada la unidad económica (calle, avenida, andador, etc.)|\n",
    "|nom_vial|Es el sustantivo propio con el cual se identifica la vialidad.|\n",
    "|tipo_v_e_1|Es la superficie del terreno destinada para el tránsito vehicular y/o peatonal, en la cual se encuentra ubicada la unidad económica (calle, avenida, andador, etc.)|\n",
    "|nom_v_e_1|Es el sustantivo propio con el cual se identifica la vialidad.|\n",
    "|tipo_v_e_2|Es la superficie del terreno destinada para el tránsito vehicular y/o peatonal, en la cual se encuentra ubicada la unidad económica (calle, avenida, andador, etc.)|\n",
    "|nom_v_e_2|Es el sustantivo propio con el cual se identifica la vialidad.|\n",
    "|tipo_v_e_3|Es la superficie del terreno destinada para el tránsito vehicular y/o peatonal, en la cual se encuentra ubicada la unidad económica (calle, avenida, andador, etc.)|\n",
    "|nom_v_e_3|Es el sustantivo propio con el cual se identifica la vialidad.|\n",
    "|numero_ext|Son los valores numéricos que identifican a uno o varios inmuebles en una vialidad.|\n",
    "|letra_ext|Son los caracteres alfanuméricos que identifican a uno o varios inmuebles en una vialidad.|\n",
    "|edificio|Es el sustantivo propio con el que se identifica el inmueble donde está ubicada la unidad económica.|\n",
    "|edificio_e|Es con el que se identifica el piso o nivel del inmueble donde está ubicada la unidad económica.|\n",
    "|numero_int|Son los valores numéricos que identifican el domicilio de la unidad económica al interior de un inmueble.|\n",
    "|letra_int|Son los caracteres alfanuméricos que identifican un domicilio al interior de un inmueble.|\n",
    "|tipo_asent|Es la clasificación que se da al asentamiento humano de acuerdo con su función (colonia, fraccionamiento, unidad habitacional, etc.)|\n",
    "|nomb_asent|Es el sustantivo propio con el cual se identifica el asentamiento humano en el que se ubica la unidad económica.|\n",
    "|tipoCenCom|Tipo de plaza, centro comercial, etcétera donde se encuentra la unidad económica.|\n",
    "|nom_CenCom|Nombre de la plaza, centro comercial, etcétera donde se encuentra la unidad económica.|\n",
    "|num_local|Dato alfanumérico que corresponde al local en donde se localizó la unidad económica.|\n",
    "|cod_postal|Clave numérica integrada por cinco dígitos establecido por el Servicio Postal Mexicano.|\n",
    "|cve_ent|Clave que identifica a la entidad federativa estadística.|\n",
    "|entidad|Es el sustantivo propio que identifica a la entidad federativa.|\n",
    "|cve_mun|Clave que identifica al Municipio estadístico, y en el caso de la Ciudad de México, las que identifican a las Alcaldías.|\n",
    "|municipio|Es el sustantivo propio que identifica al Municipio, y en el caso de la Ciudad de México los que identifican a las Alcaldías.|\n",
    "|cve_loc|Clave que identifica a la localidad estadística. Esta es el lugar ocupado con una o más edificaciones utilizadas como viviendas, las cuales pueden estar habitadas o no, este lugar es reconocido por un nombre dado por alguna disposición legal o la costumbre.|\n",
    "|localidad|Es el sustantivo propio que identifica a la localidad. Esta es el lugar ocupado con una o más edificaciones utilizadas como viviendas, las cuales pueden estar habitadas o no, este lugar es reconocido por un nombre dado por alguna disposición legal o la costumbre.|\n",
    "|ageb|Es la extensión territorial que corresponde a la subdivisión de las AGEM. Constituye la unidad básica del Marco Geoestadístico Nacional y, dependiendo de sus características, se clasifica en dos tipos, Áreas Geoestadísticas Básicas Urbanas y Áreas Geoestadísticas Básicas Rurales.|\n",
    "|manzana|Clave geoestadística de la manzana, compuesta por tres dígitos, que identifica a una extensión territorial que está constituida por un grupo de viviendas, edificios, predios, lotes o terrenos de uso habitacional, comercial, industrial o de servicios.|\n",
    "|telefono|Número telefónico, secuencia de dígitos que permite la comunicación vía telefónica con la unidad económica.|\n",
    "|correoelec|Correo electrónico, es la serie de caracteres cuya finalidad es acceder a un servicio de red que posibilita a las unidades económicas el envío y recepción de mensajes mediante sistemas de comunicación electrónicos.|\n",
    "|www|Son los datos que permiten el acceso a información de la unidad económica en Internet.|\n",
    "|tipoUniEco|Grupo de categorías que sirve para identificar si el establecimiento es fijo o semifijo, bajo las siguientes definiciones:<br><br>Establecimiento fijo: es la unidad que en una sola ubicación física, asentada en un lugar de manera permanente y delimitada por construcciones e instalaciones fijas, combina acciones y recursos bajo el control de una sola entidad propietaria o controladora para realizar alguna actividad económica con y sin fines de lucro, excepto las destinadas al autoconsumo. En este tipo de establecimiento están comprendidas las viviendas cuando en algún espacio de la casa-habitación, que también está destinado a otras actividades cotidianas, se realiza alguna actividad económica.<br><br>Establecimiento semifijo: establecimientos que están fijos, enclavados en el suelo, y que permanecen de día y de noche en el mismo sitio aunque sus instalaciones sean frágiles o rústicas. También aquellas instalaciones que aun cuando no estén enclavadas al suelo no pueden ser removidas de donde están, aunque lleven a cabo actividades que tienen carácter temporal o estacional, siempre y cuando permanezcan activas y en un solo lugar durante un periodo de por lo menos tres meses seguidos.|\n",
    "|latitud|Es la distancia que existe entre la unidad económica y el ecuador, medida sobre el meridiano que pasa por dicho punto.|\n",
    "|longitud|Es la distancia que existe entre la unidad económica y el meridiano de Greenwich, medida sobre el paralelo que pasa por dicho punto.|\n",
    "|fecha_alta|Fecha en la que la unidad económica se integró al Directorio Estadístico Nacional de Unidades Económicas y al Registro Estadístico de Negocios de México (RENEM).|\n",
    "|clee|Es la llave única de identificación estadística, asignada exclusivamente por el INEGI a cada uno de los establecimientos y empresas registrados en el RENEM, cuya función es identificarlos unívocamente y vincular a los establecimientos de una misma empresa.|\n"
   ]
  }
 ],
 "metadata": {
  "kernelspec": {
   "display_name": "Python 3",
   "language": "python",
   "name": "python3"
  },
  "language_info": {
   "codemirror_mode": {
    "name": "ipython",
    "version": 3
   },
   "file_extension": ".py",
   "mimetype": "text/x-python",
   "name": "python",
   "nbconvert_exporter": "python",
   "pygments_lexer": "ipython3",
   "version": "3.7.4"
  }
 },
 "nbformat": 4,
 "nbformat_minor": 5
}
