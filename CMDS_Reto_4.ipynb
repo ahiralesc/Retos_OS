{
 "cells": [
  {
   "cell_type": "markdown",
   "metadata": {
    "tags": []
   },
   "source": [
    "| Curso ID   |     ICC102      |\n",
    "|:----------|:-------------|\n",
    "| **Sesión** |  |\n",
    "| **Número de actividad** | 4 |\n",
    "| **Tipo de asignación** |  Individual |\n",
    "| **Día de asignación** |  |\n",
    "| **Fecha de entrega** |  |\n",
    "| **Modalidad** |  |\n",
    "| **Tópico** |  Gestion de procesos |\n",
    "| **Matricula** |  |\n",
    "| **Autor**|<a href=\"mailto:adan.hirales@cetys.mx\">Adán Hirales Carbajal</a>|\n",
    "| **Ultima actualizacion** | 24 de marzo, 2025 |"
   ]
  },
  {
   "cell_type": "markdown",
   "metadata": {},
   "source": [
    "## Competencia\n",
    "\n",
    "-  Administración de procesos."
   ]
  },
  {
   "cell_type": "markdown",
   "metadata": {},
   "source": [
    "## Instrucciones\n",
    "\n",
    "1. Iniciar una sesión vía mobaXterm.\n",
    "2. Hacer la lectura del notebook y solucionar los retos.\n",
    "3. Mostrar el resultado al instructor."
   ]
  },
  {
   "cell_type": "markdown",
   "metadata": {},
   "source": [
    "## Comandos\n",
    "\n",
    "\n",
    "<center>\n",
    "    \n",
    "|Comando|Descripción|\n",
    "|:---|:---|\n",
    "|ps|muestra los procesos en ejecución|\n",
    "|top/htop|muestra los procesos en ejecución en tiempo real|\n",
    "|kill|termina la ejecución del proceso con identificador ```PID```|\n",
    "|killall|termina la ejecución de todos los proceso con un nombre en particular|\n",
    "|bg/fg|coloca un proceso en el segundo o en primer plano|\n",
    "|jobs|muestra los procesos que se encuentran en el segundo plano|\n",
    "|nice/renice|ajusta la prioridad de un proceso|\n",
    "</center>\n"
   ]
  },
  {
   "cell_type": "markdown",
   "metadata": {},
   "source": [
    "El comando **ps** en Unix (y Linux) se usa para mostrar información sobre los procesos en ejecución. Puede mostrar una instancia de los procesos activos, incluyendo sus ID, uso de memoria y más. p. ej."
   ]
  },
  {
   "cell_type": "code",
   "execution_count": 2,
   "metadata": {},
   "outputs": [
    {
     "name": "stdout",
     "output_type": "stream",
     "text": [
      "total 8\n",
      "drwxr-xr-x 2 ahiralesc users 4096 Feb 12 18:25 .\n",
      "drwxr-xr-x 5 ahiralesc users 4096 Feb 12 18:25 ..\n",
      "-rw-r--r-- 1 ahiralesc users    0 Feb 12 18:25 archivo.txt\n"
     ]
    }
   ],
   "source": [
    "%%bash\n",
    "\n",
    "# Muestra los procesos que se ejecutan en la sesión de shell actual.\n",
    "ps"
   ]
  },
  {
   "cell_type": "code",
   "execution_count": null,
   "metadata": {},
   "outputs": [],
   "source": [
    "%%bash\n",
    "\n",
    "# Enumera todos los procesos que se ejecutan en el sistema.\n",
    "ps -1 "
   ]
  },
  {
   "cell_type": "code",
   "execution_count": null,
   "metadata": {},
   "outputs": [],
   "source": [
    "%%bash\n",
    "\n",
    "# Muestra los procesos en formato completo (incluye ID del proceso principal, hora de inicio, etc.).\n",
    "ps -f"
   ]
  },
  {
   "cell_type": "code",
   "execution_count": null,
   "metadata": {},
   "outputs": [],
   "source": [
    "%%bash\n",
    "\n",
    "# listas procesos para un usuario específico.\n",
    "ps -u alan.perez"
   ]
  },
  {
   "cell_type": "code",
   "execution_count": null,
   "metadata": {},
   "outputs": [],
   "source": [
    "%%bash\n",
    "\n",
    "# Muestra los procesos en formato de árbol, indicando las relaciones padre-hijo.\n",
    "ps --forest"
   ]
  },
  {
   "cell_type": "code",
   "execution_count": null,
   "metadata": {},
   "outputs": [],
   "source": [
    "%%bash\n",
    "\n",
    "\n",
    "# Muestra todos los procesos con información detallada sobre el uso de memoria y CPU.\n",
    "ps -aux"
   ]
  },
  {
   "cell_type": "code",
   "execution_count": null,
   "metadata": {},
   "outputs": [],
   "source": [
    "%%bash\n",
    "\n",
    "#Muestra una vista jerárquica de los procesos con cada comando.\n",
    "ps -ejH"
   ]
  },
  {
   "cell_type": "markdown",
   "metadata": {},
   "source": [
    "El comando **top** en Unix (y Linux) se utiliza para mostrar información en tiempo real sobre los procesos en ejecución, el rendimiento del sistema y el uso de recursos. Proporciona una visión general de la actividad del sistema, como el uso de la CPU, el uso de la memoria y la información de los procesos."
   ]
  },
  {
   "cell_type": "code",
   "execution_count": null,
   "metadata": {},
   "outputs": [],
   "source": [
    "%%bash\n",
    "\n",
    "# Muestra una lista dinámica y en tiempo real de los procesos del sistema y su uso de recursos.\n",
    "top"
   ]
  },
  {
   "cell_type": "code",
   "execution_count": null,
   "metadata": {},
   "outputs": [],
   "source": [
    "%%bash\n",
    "\n",
    "# Ordena los procesos por uso de CPU en orden descendente.\n",
    "top -o %CPU\n"
   ]
  },
  {
   "cell_type": "code",
   "execution_count": null,
   "metadata": {},
   "outputs": [],
   "source": [
    "%%bash\n",
    "\n",
    "# Ordena los procesos por uso de memoria en orden descendente.\n",
    "top -o %MEM\n"
   ]
  },
  {
   "cell_type": "code",
   "execution_count": null,
   "metadata": {},
   "outputs": [],
   "source": [
    "%%bash\n",
    "\n",
    "# Cambia el intervalo en el que se actualiza la salida superior (en segundos).\n",
    "top -d 1"
   ]
  },
  {
   "cell_type": "markdown",
   "metadata": {},
   "source": [
    "Top se puede utilizar de manera interactiva con los siguientes comandos.\n",
    "\n",
    "- Pulsar ```M```: Ordenar los procesos por uso de memoria.\n",
    "- Pulsar ```P```: Ordenar los procesos por uso de CPU.\n",
    "- Pulsar ```N```: Ordenar los procesos por PID.\n",
    "- Pulsar ```T```: Ordenar por tiempo de ejecución de los procesos.\n",
    "- Pulsar ```k```: Finalizar un proceso introduciendo su PID.\n",
    "- Pulsar ```q```: Salir del inicio.\n",
    "- En la parte superior, puedes pulsar ```z``` para activar o desactivar el color.\n",
    "- Pulsa ```1``` para alternar la visualización de los núcleos de la CPU (muestra todos los núcleos por separado).\n",
    "- Pulsa ```f``` para personalizar los campos que se muestran (como usuario, PID, uso de la CPU, etc.)."
   ]
  },
  {
   "cell_type": "code",
   "execution_count": null,
   "metadata": {},
   "outputs": [],
   "source": [
    "%%bash\n",
    "\n",
    "# Muestra sólo los procesos de un usuario específico.\n",
    "top -u ahiralesc"
   ]
  },
  {
   "cell_type": "code",
   "execution_count": null,
   "metadata": {},
   "outputs": [],
   "source": [
    "%%bash\n",
    "\n",
    "# Muestra información de resumen adicional del sistema en el encabezado superior.\n",
    "top -s\n"
   ]
  },
  {
   "cell_type": "markdown",
   "metadata": {},
   "source": [
    "El comando **kill** en Unix se utiliza para terminar procesos mediante el envío de señales. Permite a los usuarios detener de forma segura procesos que no responden o son innecesarios. La sintaxis del comando es ```kill [señal] PID```. Tipos de señales incluyen:\n",
    "- Matar forzosamente un proceso (SIGKILL = 9): ```kill -9 1234```\n",
    "- Envíe una señal diferente (por ejemplo, SIGSTOP = 19 para pausar un proceso): ```kill -19 1234```\n",
    "- Matar múltiples procesos: ```kill 1234 567```\n",
    "- Matar un proceso por nombre: ```kill spoky```\n",
    "\n",
    "\n",
    "El comando **killall** en Unix se usa para terminar todos los procesos que coincidan con un nombre específico. A diferencia de kill, que requiere un PID, killall trabaja directamente con el nombre del proceso, eliminando todas sus instancias a la vez. Por ejemplo:\n",
    "- Matar todos los procesos de un programa específico (SIGTERM por defecto, 15): ```killall firefox```\n",
    "- Forzar la terminación inmediata de un programa (SIGKILL, 9): ```killall -9 firefox```\n",
    "- Enviar una señal específica (ejemplo: SIGSTOP, 19, para pausar procesos): ```killall -19 firefox```\n",
    "- Matar procesos solo si llevan corriendo más de un tiempo determinado: ```killall -o 1h firefox```\n",
    "- Eliminar procesos de un usuario específico: ```killall -u ususario```"
   ]
  },
  {
   "cell_type": "code",
   "execution_count": null,
   "metadata": {},
   "outputs": [],
   "source": [
    "%%bash\n",
    "\n",
    "ps -aux # lista todos los procesos (selecciones el que desea matar)"
   ]
  },
  {
   "cell_type": "code",
   "execution_count": null,
   "metadata": {},
   "outputs": [],
   "source": [
    "%%bash\n",
    "\n",
    "killall -9 ahiralesc # ojo puede terminar su sesión"
   ]
  },
  {
   "cell_type": "markdown",
   "metadata": {},
   "source": [
    "Los comandos **bg** y **fg** se usan para gestionar procesos en segundo y primer plano dentro de la terminal de Unix. Son útiles cuando ejecutamos tareas interactivas y queremos alternar entre ellas sin cerrarlas.\n",
    "\n",
    "El comando bg reanuda un proceso detenido (Ctrl + Z), pero lo mantiene en segundo plano. Su sintaxis es ```bg [job_id]```. Ojo, no confunda ```job_id``` con ```PID```. El ```job_id``` lo puede consultar utilizando el comando ```jobs```. Por ejemplo,\n",
    "\n",
    "```Bash\n",
    "sleep 100\n",
    "\n",
    "^Z    # Detiene el proceso y lo pone en estado \"Stopped\"\n",
    "\n",
    "jobs  \n",
    "\n",
    "```\n",
    "\n",
    "El comando ```jobs``` produce la siguiente salida:\n",
    "\n",
    "```Bash\n",
    "[1] + Stopped sleep 100\n",
    "```\n",
    "\n",
    "En la anterior salida ```job_id``` es ```1``` y se referencía con ``` %1 ```\n",
    "\n",
    "Para enviar el proceso al segundo plano, ejecutar\n",
    "\n",
    "```bg %1```\n",
    "\n",
    "Suponga elaboró un programa utilizando el lenguaje de script bash, como se ejemplifica a continuación."
   ]
  },
  {
   "cell_type": "code",
   "execution_count": null,
   "metadata": {},
   "outputs": [],
   "source": [
    "%%bash\n",
    "\n",
    "    #!/bin/bash\n",
    "\n",
    "    # Verifica si el usuario proporcionó un tiempo como argumento\n",
    "    if [ -z \"$1\" ]; then\n",
    "        echo \"Uso: $0 <duración_en_segundos>\"\n",
    "        exit 1\n",
    "    fi\n",
    "\n",
    "    # Captura la duración en segundos\n",
    "    DURACION=$1\n",
    "\n",
    "    # Mensaje de inicio\n",
    "    echo \"Simulación iniciada... El programa se ejecutará por $DURACION segundos.\"\n",
    "\n",
    "    # Barra de progreso simulada\n",
    "    for ((i=1; i<=DURACION; i++)); do\n",
    "        echo -ne \"⏳ Ejecutando... ($i/$DURACION)\\r\"\n",
    "        sleep 1\n",
    "    done\n",
    "\n",
    "    # Mensaje de finalización\n",
    "    echo -e \"\\nSimulación completada. ¡Proceso finalizado!\"\n"
   ]
  },
  {
   "cell_type": "markdown",
   "metadata": {},
   "source": [
    "El anterior código no hace mucho. Imprime la línea de texto ```⏳ Ejecutando... ($i/$DURACION)\\r\"``` luego cede control por 1s. Esto lo hace por ```DURACION``` segundos. Suponga coloca el código dentro del archivo ```programa``` y que le otorga derechos de ejecución."
   ]
  },
  {
   "cell_type": "code",
   "execution_count": 1,
   "metadata": {},
   "outputs": [
    {
     "name": "stdout",
     "output_type": "stream",
     "text": [
      "Couldn't find program: 'bash'\n"
     ]
    }
   ],
   "source": [
    "%%bash\n",
    "\n",
    "# ¿Qué esta haciendo el siguiente flujo de ejecución ?\n",
    "\n",
    "./programa 100   # ______________________________\n",
    "\n",
    "^z               # ______________________________\n",
    "\n",
    "jobs -l          # ______________________________\n",
    "\n",
    "# suponga que el job_id de programa es 2\n",
    "\n",
    "bg %2            # ______________________________\n",
    "\n",
    "ps -aux          # ______________________________\n",
    "\n",
    "# suponga que el PID de programa es 11889\n",
    "\n",
    "kill -9 11889    # ______________________________\n"
   ]
  },
  {
   "cell_type": "markdown",
   "metadata": {},
   "source": [
    "Otra forma de ejecutar un programa en segundo plano desde el inicio es utilizando el caracter ```&``` por ejemplo:\n",
    "\n",
    "```./programa 100 &```"
   ]
  },
  {
   "cell_type": "markdown",
   "metadata": {},
   "source": [
    "El comando **jobs** en Unix/Linux se usa para listar los trabajos (procesos) en segundo plano o suspendidos en la terminal actual. Es útil para gestionar tareas sin abrir nuevas sesiones de terminal. Suponga el siguiente escenario.\n",
    "\n",
    "```Bash\n",
    "\n",
    "jobs    # ejecución del comando jobs\n",
    "\n",
    "[1]  + Running   sleep 100 &\n",
    "[2]  - Stopped   nano archivo.txt\n",
    "```\n",
    "\n",
    "- [1] y [2] → Identificadores de trabajo (job_id).\n",
    "- + → Indica el trabajo más reciente.\n",
    "- → Indica el siguiente trabajo en prioridad.\n",
    "- Running → El proceso sigue ejecutándose.\n",
    "- Stopped → El proceso está detenido (por ejemplo, con Ctrl + Z).\n",
    "- & → Se ejecutó en segundo plano.\n"
   ]
  },
  {
   "cell_type": "markdown",
   "metadata": {},
   "source": [
    "Los comandos **nice** y **renice** permiten ajustar la prioridad de un proceso en el sistema, lo que influye en cuántos recursos de CPU recibe en comparación con otros procesos. Los siguientes son escenarios de como usarlos.\n",
    "\n",
    "- Iniciar un proceso con una prioridad específica. La sintaxis del comando es ```nice -n [valor] comando``` e.g. ```nice -n 10 ./mi_script.sh```. Valores de prioridad van de -20 (más prioridad) a 19 (menos prioridad). Por defecto un proceso inicia con prioridad de 0. Solo root puede usar valores negativos para incrementar la prioridad.\n",
    "- Cambiar la prioridad de un proceso en ejecución. La sintaxis del comando es ```renice [valor] -p [PID]``` e.g. ```renice 5 -p 1234```.\n",
    "- Dar menor prioridad a un proceso pesado: ```nice -n 15 ./renderizado_video.sh```\n",
    "- Aumentar prioridad a un proceso crítico (requiere root): ```sudo renice -5 -p 5678```\n",
    "- Ajustar procesos dinámicamente: ```renice 10 -p 9876```"
   ]
  },
  {
   "cell_type": "markdown",
   "metadata": {},
   "source": [
    "## Asignación 3. El gran escape\n",
    "<br>\n",
    "<br>\n",
    "\n",
    "<figure><img align=\"center\" src=\"img/reto3.webp\" width=\"250\" height=\"250\"></figure><br>\n",
    "\n",
    "🎯 **Objetivo**: Estás atrapado en una misteriosa terminal Unix donde procesos corruptos proliferan. Tu misión es identificar, gestionar y escapar del caos antes de que tu sistema se quede sin recursos.\n",
    "\n",
    "📜 **Instrucciones**: \n",
    "- Utilice el script ```cpu_stress.py``` para incrementar la utilización del sistema. Para ejecutar el script ejecute ```python cpu_stree.py```. El script lo deben utilizar para resolver los retos 1 a 4. El codigo del script es el siguiente:\n",
    "\n",
    "```Bash\n",
    "import threading\n",
    "import time\n",
    "import multiprocessing\n",
    "\n",
    "def stress_cpu():\n",
    "    while running:\n",
    "        pass  # Bucle infinito para consumir CPU\n",
    "\n",
    "def start_cpu_stress(duration, num_threads=None):\n",
    "    global running\n",
    "    running = True\n",
    "    \n",
    "    if num_threads is None:\n",
    "        num_threads = multiprocessing.cpu_count()  # Usa el número de núcleos disponibles\n",
    "    \n",
    "    threads = []\n",
    "    for _ in range(num_threads):\n",
    "        t = threading.Thread(target=stress_cpu)\n",
    "        t.start()\n",
    "        threads.append(t)\n",
    "    \n",
    "    time.sleep(duration)  # Espera el tiempo definido\n",
    "    running = False  # Detiene el estrés en la CPU\n",
    "\n",
    "    for t in threads:\n",
    "        t.join()  # Espera a que todos los hilos terminen\n",
    "\n",
    "if __name__ == \"__main__\":\n",
    "    duration = int(input(\"Ingrese la duración en segundos: \"))\n",
    "    start_cpu_stress(duration)\n",
    "```\n",
    "\n",
    "- Capture la instrucción y una imagen con la salida que genera para cada reto que solucione. \n",
    "\n",
    "⚔️ **Retos**\n",
    "\n",
    "1️⃣ Encuentra a los forajidos: <br>\n",
    "<ul>\n",
    "    <li> Enumere todos los procesos en ejecución mediante un comando.\n",
    "    <li> Identifique el ID del proceso (PID) de cualquier programa que consuma más del 10 % de la CPU.\n",
    "</ul><br>\n",
    "\n",
    "2️⃣ Domesticar a las bestias:<br>\n",
    "<ul>\n",
    "    <li> Utilice un comando para cambiar la prioridad del proceso que consume más CPU a una prioridad más baja.\n",
    "    <li> Envía una señal para detener con elegancia un proceso específico sin usar kill -9.\n",
    "</ul><br>\n",
    "\n",
    "3️⃣ Modo sigiloso:<br>\n",
    "<ul>\n",
    "    <li> Mueva un proceso en ejecución al segundo plano y confirme que todavía está ejecutándose.\n",
    "    <li> Traerlo de nuevo al primer plano.\n",
    "</ul><br>\n",
    "\n",
    "4️⃣ El escape final:<br>\n",
    "<ul>\n",
    "    <li> Programe un comando que finalizará automáticamente todos los procesos que inició en 1 minuto.\n",
    "    <li> Antes de salir, enumere todos los usuarios activos y verifique el tiempo de actividad del sistema.\n",
    "</ul><br>\n"
   ]
  }
 ],
 "metadata": {
  "kernelspec": {
   "display_name": "Python 3",
   "language": "python",
   "name": "python3"
  },
  "language_info": {
   "codemirror_mode": {
    "name": "ipython",
    "version": 3
   },
   "file_extension": ".py",
   "mimetype": "text/x-python",
   "name": "python",
   "nbconvert_exporter": "python",
   "pygments_lexer": "ipython3",
   "version": "3.7.4"
  }
 },
 "nbformat": 4,
 "nbformat_minor": 5
}
