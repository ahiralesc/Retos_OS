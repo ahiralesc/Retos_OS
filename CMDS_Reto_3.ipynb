{
 "cells": [
  {
   "cell_type": "markdown",
   "metadata": {
    "tags": []
   },
   "source": [
    "| Curso ID   |     ICC102      |\n",
    "|:----------|:-------------|\n",
    "| **Sesión** |  |\n",
    "| **Número de actividad** | 3 |\n",
    "| **Tipo de asignación** |  Individual |\n",
    "| **Día de asignación** |  |\n",
    "| **Fecha de entrega** |  |\n",
    "| **Modalidad** |  |\n",
    "| **Tópico** |  Permisos y propiedad de archivos |\n",
    "| **Matricula** |  |\n",
    "| **Autor**|<a href=\"mailto:adan.hirales@cetys.mx\">Adán Hirales Carbajal</a>|\n",
    "| **Ultima actualizacion** | 12 de febrero, 2025 |"
   ]
  },
  {
   "cell_type": "markdown",
   "metadata": {},
   "source": [
    "## Competencia\n",
    "\n",
    "-  Permisos y propiedad de archivos"
   ]
  },
  {
   "cell_type": "markdown",
   "metadata": {},
   "source": [
    "## Instrucciones\n",
    "\n",
    "1. Iniciar una sesión vía mobaXterm.\n",
    "2. Hacer la lectura del notebook y solucionar los retos.\n",
    "3. Mostrar el resultado al instructor."
   ]
  },
  {
   "cell_type": "markdown",
   "metadata": {},
   "source": [
    "## Comandos\n",
    "\n",
    "\n",
    "<center>\n",
    "    \n",
    "|Comando|Descripción|\n",
    "|:---|:---|\n",
    "|```ls -l```|facilita listar archivos y directorios (y sus propiedades)|\n",
    "|chmod|cambia permisoso de archivos|\n",
    "|chown y more|facilita ver el contenido de un archivo paginando|\n",
    "|chgrp|cambia el propietario de un archivo|\n",
    "\n",
    "</center>\n"
   ]
  },
  {
   "cell_type": "code",
   "execution_count": 2,
   "metadata": {},
   "outputs": [
    {
     "name": "stdout",
     "output_type": "stream",
     "text": [
      "total 8\n",
      "drwxr-xr-x 2 ahiralesc users 4096 Feb 12 18:25 .\n",
      "drwxr-xr-x 5 ahiralesc users 4096 Feb 12 18:25 ..\n",
      "-rw-r--r-- 1 ahiralesc users    0 Feb 12 18:25 archivo.txt\n"
     ]
    }
   ],
   "source": [
    "%%bash\n",
    "\n",
    "# Creación de la carpeta de trabajo\n",
    "mkdir proyecto\n",
    "\n",
    "# Ingresar a la carpeta de trabajo\n",
    "cd proyecto\n",
    "\n",
    "# Creación de un archivo\n",
    "touch archivo.txt\n",
    "\n",
    "# Listar el contenido de la carpeta proyecto con formato de lista\n",
    "ls -al"
   ]
  },
  {
   "cell_type": "markdown",
   "metadata": {},
   "source": [
    "Note el formato de la primera columna p. ej. ```drwxr-xr-x```. Este lo debe interpetar como sigue:\n",
    "- Caracter 1: si es ```d``` entonces es directorio, caso contrario ```-``` es un archivo.\n",
    "- Caracter [2-4]: refieren a los derechos del ```usuario``` sobre el archivo/directorio. Tales son ```r``` read (lectura), ```w``` write (escritura) y ```x``` execute (ejecución). En el ejemplo ```rwx``` indica que el usuario cuenta con todos los derechos sobre el archivo/directorio.\n",
    "- Caracter [5-7]: refiere a los derechos del ```grupo``` sobre el archivo/directorio. En el ejemplo ```r-x``` indica que el grupo tiene derecho de escritura y ejecución sobre el archivo/directorio.\n",
    "- Caracter [8-10]: refiere a los derechos de ```todos``` sobre el archivo/directorio. En el ejemplo ```r-x``` todos pueden leer y ejecutar el archivo.\n",
    "\n",
    "\n",
    "De la anterior lista\n",
    "- ¿Cuales elementos corresponden a archivos y cuales a directorios?\n",
    "- ¿Cómo se interpreta los derechos de ```archivo.txt```?"
   ]
  },
  {
   "cell_type": "markdown",
   "metadata": {},
   "source": [
    "En Unix y Linux, un grupo es una colección de usuarios que comparten permisos comunes sobre archivos y directorios. Los grupos permiten administrar el acceso a recursos sin necesidad de asignar permisos individualmente a cada usuario. Cada archivo y directorio en Unix tiene un dueño (usuario) y un grupo, y los permisos pueden definirse a nivel de:\n",
    "\n",
    "- Usuario (owner) – Permisos del propietario.\n",
    "- Grupo (group) – Permisos de los usuarios dentro del mismo grupo.\n",
    "- Otros (others) – Permisos de cualquier otro usuario fuera del grupo.\n",
    "\n",
    "📌 Características de los Grupos en Unix\n",
    "- Cada usuario pertenece al grupo principal (o primario) definido en ```/etc/passwd```.\n",
    "- Un usuario puede formar parte de **múltiples grupos** secundarios definidos en /etc/group.\n",
    "- Los grupos facilitan el **trabajo colaborativo** al otorgar permisos compartidos.\n",
    "\n",
    "Los grupos son esenciales para la gestión eficiente de permisos y seguridad en sistemas Unix/Linux. 🔐"
   ]
  },
  {
   "cell_type": "code",
   "execution_count": 10,
   "metadata": {},
   "outputs": [
    {
     "name": "stdout",
     "output_type": "stream",
     "text": [
      "ahiralesc : users sudo reto3\n",
      " \n",
      "uid=1000(ahiralesc) gid=100(users) groups=100(users),27(sudo),1000(reto3)\n",
      " \n",
      "ahiralesc : users sudo reto3\n"
     ]
    }
   ],
   "source": [
    "%%bash\n",
    "\n",
    "groups ahiralesc      # Muestra los grupos de un usuario (antes no existia reto3)\n",
    "\n",
    "echo \" \"              # Genera un salto de linea para este ejemplo.\n",
    "id ahiralesc          # Muestra el UID y grupos del usuario\n",
    "\n",
    "# sudo groupadd reto3 # Crea un nuevo grupo (reto3)\n",
    "\n",
    "# sudo usermod -aG reto3 ahiralesc\n",
    "\n",
    "echo \" \"  \n",
    "groups ahiralesc"
   ]
  },
  {
   "cell_type": "markdown",
   "metadata": {},
   "source": [
    "En Unix/Linux un archivo o directorio solo puede pertenecer a un único grupo a la vez. ¿Cómo sabe a que grupo perteneces? la **cuarta columna** del listado generado por ```ls -al``` muestra el grupo al que pertenece el archivo/directorio.  p. ej. "
   ]
  },
  {
   "cell_type": "code",
   "execution_count": 9,
   "metadata": {},
   "outputs": [
    {
     "name": "stdout",
     "output_type": "stream",
     "text": [
      "total 8\n",
      "drwxr-xr-x 2 ahiralesc users 4096 Feb 12 18:25 .\n",
      "drwxr-xr-x 5 ahiralesc users 4096 Feb 12 18:55 ..\n",
      "-rw-r--r-- 1 alopez    reto3    0 Feb 12 18:25 archivo.txt\n"
     ]
    }
   ],
   "source": [
    "%%bash\n",
    "\n",
    "cd proyecto\n",
    "\n",
    "ls -al    \n"
   ]
  },
  {
   "cell_type": "markdown",
   "metadata": {},
   "source": [
    "En el anterior ejemplo:\n",
    "- La **tercera columna** indica que el dueño del archivo es ```ahiralesc```.\n",
    "- La **cuarta columna** indica que los miembros del grupo ```users``` pueden acceder el archivo solo para lectura (r).\n",
    "\n",
    "El comando chown en Unix/Linux se utiliza para cambiar el propietario y/o el grupo de un archivo o directorio. Para utilizarlo, **es necesario tener privilegios de superusuario** (root) o **permisos adecuados**."
   ]
  },
  {
   "cell_type": "code",
   "execution_count": 1,
   "metadata": {},
   "outputs": [
    {
     "name": "stdout",
     "output_type": "stream",
     "text": [
      "total 8\n",
      "drwxr-xr-x 2 ahiralesc users 4096 Feb 12 18:25 .\n",
      "drwxr-xr-x 5 ahiralesc users 4096 Feb 12 19:42 ..\n",
      "-rw-r--r-- 1 alopez    reto3    0 Feb 12 18:25 archivo.txt\n"
     ]
    }
   ],
   "source": [
    "%%bash\n",
    "\n",
    "cd proyecto\n",
    "  \n",
    "# Cambia el propietario a adominguez\n",
    "# sudo chown adominguez archivo.txt\n",
    "\n",
    "# Cambia el grupo a reto3\n",
    "# sudo chown :reto3 archivo.txt\n",
    "\n",
    "# Cambia el propietario y grupo a la vez\n",
    "# sudo chown alopez:reto3 archivo.txt\n",
    "\n",
    "ls -al "
   ]
  },
  {
   "cell_type": "markdown",
   "metadata": {},
   "source": [
    "El comando **chmod** en Unix/Linux se utiliza para modificar los permisos de archivos y directorios, definiendo qué usuarios pueden leer (r), escribir (w) o ejecutar (x) un archivo o directorio.\n",
    "\n",
    "Existen dos métodos para modificar los permisos de usuarios:\n",
    "- Vía la notación octal.\n",
    "- Vía notación simbólica.\n",
    "\n",
    "\n",
    "### Modificación de permisos usuando notación simbólica.\n",
    "\n",
    "Note como en el siguiente ejemplo se conceden permisos de lectura, escritura y ejecución.\n"
   ]
  },
  {
   "cell_type": "code",
   "execution_count": 6,
   "metadata": {},
   "outputs": [
    {
     "name": "stdout",
     "output_type": "stream",
     "text": [
      "total 8\n",
      "drwxr-xr-x 2 ahiralesc users 4096 Feb 17 14:04 .\n",
      "drwxr-xr-x 5 ahiralesc users 4096 Feb 17 14:03 ..\n",
      "-rw-r--r-- 1 ahiralesc users    0 Feb 17 14:04 archivo.txt\n",
      "total 8\n",
      "drwxr-xr-x 2 ahiralesc users 4096 Feb 17 14:04 .\n",
      "drwxr-xr-x 5 ahiralesc users 4096 Feb 17 14:03 ..\n",
      "-rwxr--r-- 1 ahiralesc users    0 Feb 17 14:04 archivo.txt\n",
      "total 8\n",
      "drwxr-xr-x 2 ahiralesc users 4096 Feb 17 14:04 .\n",
      "drwxr-xr-x 5 ahiralesc users 4096 Feb 17 14:03 ..\n",
      "-rwxrw-r-- 1 ahiralesc users    0 Feb 17 14:04 archivo.txt\n",
      "total 8\n",
      "drwxr-xr-x 2 ahiralesc users 4096 Feb 17 14:04 .\n",
      "drwxr-xr-x 5 ahiralesc users 4096 Feb 17 14:03 ..\n",
      "-rwxrw-r-- 1 ahiralesc users    0 Feb 17 14:04 archivo.txt\n"
     ]
    }
   ],
   "source": [
    "%%bash\n",
    "\n",
    "cd proyecto\n",
    "\n",
    "rm archivo.txt; touch archivo.txt\n",
    "\n",
    "ls -al \n",
    "\n",
    "chmod u+rwx archivo.txt # Agrega permisos al dueño del archivo\n",
    "\n",
    "ls -al\n",
    "\n",
    "chmod g+w archivo.txt    # Agrega escritura al grupo\n",
    "\n",
    "ls -al\n",
    "\n",
    "chmod o-x archivo.txt    # Quitar ejecución a otros\n",
    "\n",
    "ls -al"
   ]
  },
  {
   "cell_type": "markdown",
   "metadata": {},
   "source": [
    "### Modificación de permisos vía la notación octal.\n",
    "\n",
    "Considere la siguiente matriz\n",
    "\n",
    "<center>\n",
    "    \n",
    "| | Read (r) | Write (w)| Excecute (x)|\n",
    "|:---:|:---:|:---:|:---:|\n",
    "|User (propietario)| 4 | 2 | 1 |\n",
    "|group (grupo)| 4 | 2 | 1 |\n",
    "|Others (otros)| 4 | 2 | 1 |\n",
    "    \n",
    "</center>\n",
    "\n",
    "El anterior procedimiento lo puede realizar utilizando la notación octal como sigue"
   ]
  },
  {
   "cell_type": "code",
   "execution_count": 7,
   "metadata": {},
   "outputs": [
    {
     "name": "stdout",
     "output_type": "stream",
     "text": [
      "total 8\n",
      "drwxr-xr-x 2 ahiralesc users 4096 Feb 17 14:13 .\n",
      "drwxr-xr-x 5 ahiralesc users 4096 Feb 17 14:13 ..\n",
      "-rw-r--r-- 1 ahiralesc users    0 Feb 17 14:13 archivo.txt\n",
      "total 8\n",
      "drwxr-xr-x 2 ahiralesc users 4096 Feb 17 14:13 .\n",
      "drwxr-xr-x 5 ahiralesc users 4096 Feb 17 14:13 ..\n",
      "-rwxr--r-- 1 ahiralesc users    0 Feb 17 14:13 archivo.txt\n",
      "total 8\n",
      "drwxr-xr-x 2 ahiralesc users 4096 Feb 17 14:13 .\n",
      "drwxr-xr-x 5 ahiralesc users 4096 Feb 17 14:13 ..\n",
      "-rwxr-xr-- 1 ahiralesc users    0 Feb 17 14:13 archivo.txt\n",
      "total 8\n",
      "drwxr-xr-x 2 ahiralesc users 4096 Feb 17 14:13 .\n",
      "drwxr-xr-x 5 ahiralesc users 4096 Feb 17 14:13 ..\n",
      "-rwxr-xr-x 1 ahiralesc users    0 Feb 17 14:13 archivo.txt\n"
     ]
    }
   ],
   "source": [
    "%%bash\n",
    "\n",
    "cd proyecto\n",
    "\n",
    "rm archivo.txt; touch archivo.txt\n",
    "\n",
    "ls -al \n",
    "\n",
    "chmod 744 archivo.txt   # Agrega permisos al dueño del archivo. \n",
    "                        # note los valores 44 corresponden a los derechos\n",
    "                        # existentes para grupo y otros de lectura.\n",
    "\n",
    "ls -al\n",
    "\n",
    "chmod 754 archivo.txt    # Agrega escritura al grupo\n",
    "\n",
    "ls -al\n",
    "\n",
    "chmod 755 archivo.txt    # Agregar derechos de ejecución a otros\n",
    "\n",
    "ls -al"
   ]
  },
  {
   "cell_type": "markdown",
   "metadata": {},
   "source": [
    "### Aplicación de los permisos recursivamente\n",
    "\n",
    "Es posible aplicar los permisos de marena recursiva a todos los archivos y directorios dentro de una carpeta. Por ejemplo."
   ]
  },
  {
   "cell_type": "code",
   "execution_count": 13,
   "metadata": {},
   "outputs": [
    {
     "name": "stdout",
     "output_type": "stream",
     "text": [
      "\u001b[01;34m.\u001b[0m\n",
      "├── archivo_1.txt\n",
      "├── \u001b[01;34mcarpeta_1\u001b[0m\n",
      "│   └── archivo_2.txt\n",
      "└── \u001b[01;34mcarpeta_2\u001b[0m\n",
      "    └── archivo_3.txt\n",
      "\n",
      "2 directories, 3 files\n",
      "total 16\n",
      "drwxr-xr-x 4 ahiralesc users 4096 Feb 17 14:27 .\n",
      "drwxr-xr-x 6 ahiralesc users 4096 Feb 17 14:25 ..\n",
      "-rw-r--r-- 1 ahiralesc users    0 Feb 17 14:27 archivo_1.txt\n",
      "drwxr-xr-x 2 ahiralesc users 4096 Feb 17 14:27 carpeta_1\n",
      "drwxr-xr-x 2 ahiralesc users 4096 Feb 17 14:27 carpeta_2\n",
      "total 16\n",
      "drwxr-xr-x 4 ahiralesc users 4096 Feb 17 14:27 .\n",
      "drwxr-xr-x 6 ahiralesc users 4096 Feb 17 14:25 ..\n",
      "-rw-r--r-- 1 ahiralesc users    0 Feb 17 14:27 archivo_1.txt\n",
      "drw------- 2 ahiralesc users 4096 Feb 17 14:27 carpeta_1\n",
      "drwxr-xr-x 2 ahiralesc users 4096 Feb 17 14:27 carpeta_2\n"
     ]
    },
    {
     "name": "stderr",
     "output_type": "stream",
     "text": [
      "chmod: cannot access 'carpeta_1/archivo_2.txt': Permission denied\n"
     ]
    }
   ],
   "source": [
    "%%bash\n",
    "\n",
    "cd proyecto\n",
    "\n",
    "\n",
    "rm -rf *; touch archivo_1.txt; mkdir carpeta_1; cd carpeta_1; touch archivo_2.txt\n",
    "cd ..; mkdir carpeta_2; cd carpeta_2; touch archivo_3.txt; cd ..; tree\n",
    "\n",
    "ls -al\n",
    "\n",
    "# Ahora suponga que desea que la carpeta_1 y su cotenido tenga derechos de lectura\n",
    "# y escritura por el dueño\n",
    "chmod -R 600 carpeta_1\n",
    "\n",
    "ls -al\n"
   ]
  },
  {
   "cell_type": "markdown",
   "metadata": {},
   "source": [
    "## Reto 3. El guardian de los permisos 🔐\n",
    "\n",
    "🎯 **Objetivo**: Demuestra tu capacidad para gestionar permisos y propiedad de archivos en Linux.\n",
    "\n",
    "📂 **Escenario**:\n",
    "\n",
    "Tienes una carpeta llamada ```proyecto``` con la siguiente estructura:\n",
    "\n",
    "```Bash\n",
    "/home/usuario/proyecto\n",
    "├── privado.txt\n",
    "├── publico.txt\n",
    "├── ejecutable.sh\n",
    "├── grupo/\n",
    "│   ├── compartido1.txt\n",
    "│   ├── compartido2.txt\n",
    "└── secreto/\n",
    "    ├── confidencial.txt\n",
    "    ├── clave.pem\n",
    "\n",
    "```\n",
    "\n",
    "Tu tarea el configurar correctamente los permisos y las propuedades de los archivos y directorios según las siguientes reglas.\n",
    "\n",
    "1️⃣ Haz que ```privado.txt``` solo pueda ser leído y modificado por su dueño. <br>\n",
    "2️⃣ Permite que ```publico.txt``` sea accesible por cualquier usuario (lectura y escritura).<br>\n",
    "3️⃣ Convierte ```ejecutable.sh``` en un archivo ejecutable para todos los usuarios.<br>\n",
    "4️⃣ Otorga al grupo ```reto3``` permisos de lectura y escritura sobre los archivos en la carpeta ```grupo```/.<br>\n",
    "5️⃣ Asegúrate de que ```confidencial.txt``` solo pueda ser leído por su dueño.<br>\n",
    "6️⃣ Protege ```clave.pem``` para que solo el dueño pueda leerlo y nadie más tenga acceso.<br>\n",
    "7️⃣ Verifica los permisos de todos los archivos y muestra los resultados.<br>"
   ]
  }
 ],
 "metadata": {
  "kernelspec": {
   "display_name": "Python 3",
   "language": "python",
   "name": "python3"
  },
  "language_info": {
   "codemirror_mode": {
    "name": "ipython",
    "version": 3
   },
   "file_extension": ".py",
   "mimetype": "text/x-python",
   "name": "python",
   "nbconvert_exporter": "python",
   "pygments_lexer": "ipython3",
   "version": "3.7.4"
  }
 },
 "nbformat": 4,
 "nbformat_minor": 5
}
